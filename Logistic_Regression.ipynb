{
  "nbformat": 4,
  "nbformat_minor": 0,
  "metadata": {
    "colab": {
      "name": "Logistic Regression.ipynb",
      "provenance": [],
      "collapsed_sections": [],
      "toc_visible": true,
      "authorship_tag": "ABX9TyO4yoRjN2aDopP2y4Po4XqB",
      "include_colab_link": true
    },
    "kernelspec": {
      "name": "python3",
      "display_name": "Python 3"
    }
  },
  "cells": [
    {
      "cell_type": "markdown",
      "metadata": {
        "id": "view-in-github",
        "colab_type": "text"
      },
      "source": [
        "<a href=\"https://colab.research.google.com/github/DakaiZhou/machine-learning-algorithm-implementation/blob/main/Logistic_Regression.ipynb\" target=\"_parent\"><img src=\"https://colab.research.google.com/assets/colab-badge.svg\" alt=\"Open In Colab\"/></a>"
      ]
    },
    {
      "cell_type": "markdown",
      "metadata": {
        "id": "TX0M9eiKgZVt"
      },
      "source": [
        "#Classiﬁcation and logistic regression\r\n",
        "The linear regression can be modified to classification problem, by reduce y to discrete values. For now, we focus on **binary classification**, and it it y is either $0$ nor $1$.\r\n",
        "\r\n",
        "## Logistic regression\r\n",
        "Simply use linear regression to predit binary classification ($y \\in \\{0,1\\}$) performs poorly. To fix this, we change our $h_\\theta(x)$:\r\n",
        "\r\n",
        "\\begin{gather}\r\n",
        "h_\\theta(x) = g(\\theta^Tx) = \\frac{1}{1 + e^{-\\theta^Tx}}\r\n",
        "\\end{gather}\r\n",
        "\r\n",
        "where $g(z) = \\frac{1}{1+e^{-z}}$ , which is called **logistic function** or **sigmoid function**. $g(z)$ tends toward to 1 as $z \\rightarrow \\infty$, and tends toward to 0 as $z \\rightarrow -\\infty$.\r\n",
        "\r\n",
        "Keeping $x_0 = 1$ as in linear regression, $\\theta^Tx = \\theta_0 + \\sum_{j=1}^n \\theta_jx_j$.\r\n",
        "\r\n",
        "One useful property of sigmoid function is:\r\n",
        "\\begin{align}\r\n",
        "g'(z) &= \\frac{d}{dz}\\frac{1}{1 + e^{-z}}\\\\\r\n",
        "&= \\frac{1}{(1+e^{-z})^2}(e^{-z})\\\\\r\n",
        "&= \\frac{1}{(1+e^{-z})}(1- \\frac{1}{(1+e^{-z})})\\\\\r\n",
        "&= g(z)(1-g(z))\r\n",
        "\\end{align}\r\n",
        "\r\n",
        "To estimate $\\theta$, we do maximum likelihood estimator under a set of asumptions (similar to least squares regression). Assume that \r\n",
        "\\begin{gather}\r\n",
        "P(y=1|x;\\theta) = h_\\theta(x)\r\n",
        "\\end{gather}\r\n",
        "\r\n",
        "\\begin{gather}\r\n",
        "P(y=0|x;\\theta) = 1-h_\\theta(x)\r\n",
        "\\end{gather}\r\n",
        "\r\n",
        "This can be written as \r\n",
        "\r\n",
        "\\begin{gather}\r\n",
        "p(y|x;\\theta) = (h_\\theta(x))^y(1-h_\\theta(x))^{1-y}\r\n",
        "\\end{gather}\r\n",
        "\r\n",
        "Assuming we have $m$ training examples which were generated independently, we write down the likelihood of the parameters as\r\n",
        "\\begin{align}\r\n",
        "L(\\theta) &= p(\\vec y| X;\\theta)\\\\\r\n",
        "&= \\prod_{i=1}^m p(y^{(i)}|x^{(i)};\\theta)\\\\\r\n",
        "&= \\prod_{i=1}^m (h_\\theta(x^{(i)}))^{y^{(i)}} (1-h_\\theta(x^{(i)}))^{1-y^{(i)}}\r\n",
        "\\end{align}\r\n",
        "\r\n",
        "\\begin{align}\r\n",
        "l(\\theta) &= \\log L(\\theta)\\\\\r\n",
        "&= \\sum_{i=1}^m y^{(i)}\\log h(x^{(i)}) + (1- y^{(i)})\\log(1-h(x^{(i)}))\r\n",
        "\\end{align}\r\n",
        "\r\n",
        "Again, similar to the derivation in the case of linear regression, we can use gradient ascent to maximize the likelihood. $\\theta := \\theta + \\alpha \\nabla_\\theta l(\\theta)$ (plus is because we are maximizing the function).\r\n",
        "With one training example and the usful property, we have:\r\n",
        "\r\n",
        "\\begin{align}\r\n",
        "\\frac{\\partial}{\\partial \\theta_j}l(\\theta) &= (y \\frac{1}{g(\\theta^T x) - (1-y)\\frac{1}{1-g(\\theta^Tx)}})\\frac{\\partial}{\\partial\\theta_j}g(\\theta_j x)\\\\\r\n",
        "&= (y \\frac{1}{g(\\theta^T x) - (1-y)\\frac{1}{1-g(\\theta^Tx)}})g(\\theta^Tx)(1-g(\\theta^Tx)\\frac{\\partial}{\\partial\\theta_j}\\theta^Tx\\\\\r\n",
        "&= (y(1-g(\\theta^Tx))-(1-y)g(\\theta^Tx))x_j\\\\\r\n",
        "&= (y-h(\\theta^Tx))x_j\r\n",
        "\\end{align}\r\n",
        "\r\n",
        "Therefore, it give us the stochastic gradient ascent rule: \r\n",
        "\\begin{gather}\r\n",
        "\\theta_j := \\theta_j + \\alpha(y^{(i)}-h_\\theta(x^{(i)}))x_j^{(i)}\r\n",
        "\\end{gather}\r\n",
        "\r\n",
        "Of course, we can also change it to a batch gradient ascent:\r\n",
        "\\begin{gather}\r\n",
        "\\theta_j := \\theta_j + \\alpha\\sum_{i=1}^m(y^{(i)}-h_\\theta(x^{(i)}))x_j^{(i)}\r\n",
        "\\end{gather}\r\n",
        "\r\n",
        "Here, the cost function $J(\\theta)$ becomes $l(\\theta)$ written above."
      ]
    },
    {
      "cell_type": "code",
      "metadata": {
        "id": "mKzHktvZt5r1"
      },
      "source": [
        "import pandas as pd\r\n",
        "import seaborn as sns\r\n",
        "import numpy as np"
      ],
      "execution_count": 113,
      "outputs": []
    },
    {
      "cell_type": "code",
      "metadata": {
        "colab": {
          "base_uri": "https://localhost:8080/",
          "height": 357
        },
        "id": "nhKOIZXUuQ_u",
        "outputId": "d19a56e5-b945-44ac-839a-4f7c0f5d961d"
      },
      "source": [
        "df = pd.read_csv(\"challenger.csv\")\r\n",
        "df.info()\r\n",
        "df.head()"
      ],
      "execution_count": 114,
      "outputs": [
        {
          "output_type": "stream",
          "text": [
            "<class 'pandas.core.frame.DataFrame'>\n",
            "RangeIndex: 23 entries, 0 to 22\n",
            "Data columns (total 2 columns):\n",
            " #   Column       Non-Null Count  Dtype\n",
            "---  ------       --------------  -----\n",
            " 0   failure      23 non-null     bool \n",
            " 1   temperature  23 non-null     int64\n",
            "dtypes: bool(1), int64(1)\n",
            "memory usage: 335.0 bytes\n"
          ],
          "name": "stdout"
        },
        {
          "output_type": "execute_result",
          "data": {
            "text/html": [
              "<div>\n",
              "<style scoped>\n",
              "    .dataframe tbody tr th:only-of-type {\n",
              "        vertical-align: middle;\n",
              "    }\n",
              "\n",
              "    .dataframe tbody tr th {\n",
              "        vertical-align: top;\n",
              "    }\n",
              "\n",
              "    .dataframe thead th {\n",
              "        text-align: right;\n",
              "    }\n",
              "</style>\n",
              "<table border=\"1\" class=\"dataframe\">\n",
              "  <thead>\n",
              "    <tr style=\"text-align: right;\">\n",
              "      <th></th>\n",
              "      <th>failure</th>\n",
              "      <th>temperature</th>\n",
              "    </tr>\n",
              "  </thead>\n",
              "  <tbody>\n",
              "    <tr>\n",
              "      <th>0</th>\n",
              "      <td>False</td>\n",
              "      <td>66</td>\n",
              "    </tr>\n",
              "    <tr>\n",
              "      <th>1</th>\n",
              "      <td>True</td>\n",
              "      <td>70</td>\n",
              "    </tr>\n",
              "    <tr>\n",
              "      <th>2</th>\n",
              "      <td>False</td>\n",
              "      <td>69</td>\n",
              "    </tr>\n",
              "    <tr>\n",
              "      <th>3</th>\n",
              "      <td>False</td>\n",
              "      <td>68</td>\n",
              "    </tr>\n",
              "    <tr>\n",
              "      <th>4</th>\n",
              "      <td>False</td>\n",
              "      <td>67</td>\n",
              "    </tr>\n",
              "  </tbody>\n",
              "</table>\n",
              "</div>"
            ],
            "text/plain": [
              "   failure  temperature\n",
              "0    False           66\n",
              "1     True           70\n",
              "2    False           69\n",
              "3    False           68\n",
              "4    False           67"
            ]
          },
          "metadata": {
            "tags": []
          },
          "execution_count": 114
        }
      ]
    },
    {
      "cell_type": "code",
      "metadata": {
        "id": "sMyspu4Jvap4",
        "colab": {
          "base_uri": "https://localhost:8080/",
          "height": 357
        },
        "outputId": "fadfff40-6de8-4131-9d4f-c5abb1076087"
      },
      "source": [
        "df.loc[df['failure'] == False, [\"failure\"]] = 0\r\n",
        "df.loc[df['failure'] == True, [\"failure\"]] = 1\r\n",
        "df.info()\r\n",
        "df.head()"
      ],
      "execution_count": 115,
      "outputs": [
        {
          "output_type": "stream",
          "text": [
            "<class 'pandas.core.frame.DataFrame'>\n",
            "RangeIndex: 23 entries, 0 to 22\n",
            "Data columns (total 2 columns):\n",
            " #   Column       Non-Null Count  Dtype \n",
            "---  ------       --------------  ----- \n",
            " 0   failure      23 non-null     object\n",
            " 1   temperature  23 non-null     int64 \n",
            "dtypes: int64(1), object(1)\n",
            "memory usage: 496.0+ bytes\n"
          ],
          "name": "stdout"
        },
        {
          "output_type": "execute_result",
          "data": {
            "text/html": [
              "<div>\n",
              "<style scoped>\n",
              "    .dataframe tbody tr th:only-of-type {\n",
              "        vertical-align: middle;\n",
              "    }\n",
              "\n",
              "    .dataframe tbody tr th {\n",
              "        vertical-align: top;\n",
              "    }\n",
              "\n",
              "    .dataframe thead th {\n",
              "        text-align: right;\n",
              "    }\n",
              "</style>\n",
              "<table border=\"1\" class=\"dataframe\">\n",
              "  <thead>\n",
              "    <tr style=\"text-align: right;\">\n",
              "      <th></th>\n",
              "      <th>failure</th>\n",
              "      <th>temperature</th>\n",
              "    </tr>\n",
              "  </thead>\n",
              "  <tbody>\n",
              "    <tr>\n",
              "      <th>0</th>\n",
              "      <td>0</td>\n",
              "      <td>66</td>\n",
              "    </tr>\n",
              "    <tr>\n",
              "      <th>1</th>\n",
              "      <td>1</td>\n",
              "      <td>70</td>\n",
              "    </tr>\n",
              "    <tr>\n",
              "      <th>2</th>\n",
              "      <td>0</td>\n",
              "      <td>69</td>\n",
              "    </tr>\n",
              "    <tr>\n",
              "      <th>3</th>\n",
              "      <td>0</td>\n",
              "      <td>68</td>\n",
              "    </tr>\n",
              "    <tr>\n",
              "      <th>4</th>\n",
              "      <td>0</td>\n",
              "      <td>67</td>\n",
              "    </tr>\n",
              "  </tbody>\n",
              "</table>\n",
              "</div>"
            ],
            "text/plain": [
              "  failure  temperature\n",
              "0       0           66\n",
              "1       1           70\n",
              "2       0           69\n",
              "3       0           68\n",
              "4       0           67"
            ]
          },
          "metadata": {
            "tags": []
          },
          "execution_count": 115
        }
      ]
    },
    {
      "cell_type": "code",
      "metadata": {
        "colab": {
          "base_uri": "https://localhost:8080/",
          "height": 296
        },
        "id": "tRpG62iN47dO",
        "outputId": "eb38f831-76fe-4bf6-e88c-2afdcbea60e3"
      },
      "source": [
        "sns.scatterplot(data=df, x=\"temperature\", y=\"failure\")"
      ],
      "execution_count": 116,
      "outputs": [
        {
          "output_type": "execute_result",
          "data": {
            "text/plain": [
              "<matplotlib.axes._subplots.AxesSubplot at 0x7fb6ef70e2b0>"
            ]
          },
          "metadata": {
            "tags": []
          },
          "execution_count": 116
        },
        {
          "output_type": "display_data",
          "data": {
            "image/png": "[encoded data removed]",
            "text/plain": [
              "<Figure size 432x288 with 1 Axes>"
            ]
          },
          "metadata": {
            "tags": [],
            "needs_background": "light"
          }
        }
      ]
    },
    {
      "cell_type": "code",
      "metadata": {
        "id": "6DvFLTI05M3N"
      },
      "source": [
        "def logistic_regression(x, y, *args, **kwargs):\r\n",
        "  \"\"\"\r\n",
        "  Implementation for logistic regression. It is a batch logistic regression.\r\n",
        "\r\n",
        "  Input: x training data, column vector or matrix, each column for one feature\r\n",
        "         y training data, ground truth, column vector\r\n",
        "         alpha learning rate optional\r\n",
        "         tol tolorance optional\r\n",
        "\r\n",
        "  Output: theta estimated parameters\r\n",
        "          h estimations\r\n",
        "  \"\"\"\r\n",
        "\r\n",
        "  alpha = 10**-3\r\n",
        "  tol = 10**-5\r\n",
        "\r\n",
        "  if len(kwargs) > 2:\r\n",
        "    raise Exception(\"Too many inputs.\")\r\n",
        "  elif len(kwargs) > 0:\r\n",
        "    if \"alpha\" in kwargs.keys():\r\n",
        "      alpha = kwargs[\"alpha\"]\r\n",
        "    if \"tol\" in kwargs.keys():\r\n",
        "      tol = kwargs[\"tol\"]\r\n",
        "\r\n",
        "  num_feature = np.shape(x)[1]\r\n",
        "  num_example = np.shape(x)[0]\r\n",
        "  theta = np.zeros((num_feature + 1, 1))\r\n",
        "  new_col = np.ones(num_example)\r\n",
        "  x = np.insert(x, 0, new_col, axis=1)\r\n",
        "  pj = 0\r\n",
        "  num_loop = 0\r\n",
        "\r\n",
        "  # start gradient ascent \r\n",
        "  while num_loop < 10000:\r\n",
        "    for i in range(num_example):\r\n",
        "      h = 1 / (1 + np.exp(-np.dot(x, theta).astype(float)))\r\n",
        "      tmp = sum((y - h) * x)\r\n",
        "      theta = theta + alpha * tmp.reshape((num_feature + 1, 1)) # theta update\r\n",
        "      j = sum(y*np.log(h) + (1-y)*np.log(1-h)) # cost function\r\n",
        "      if abs(j - pj) <= tol:\r\n",
        "        return theta, h\r\n",
        "      else:\r\n",
        "        pj = j\r\n",
        "    num_loop = num_loop + 1\r\n",
        "\r\n",
        "  print(\"gradient descent does not convergence after maximum interation.\")\r\n",
        "  return theta, h"
      ],
      "execution_count": 117,
      "outputs": []
    },
    {
      "cell_type": "code",
      "metadata": {
        "id": "jxEfOUpldUVi"
      },
      "source": [
        "x = df[\"temperature\"].values\r\n",
        "y = df['failure'].values\r\n",
        "n = np.size(y)\r\n",
        "x = x.reshape((n, 1))\r\n",
        "y = y.reshape((n, 1))\r\n",
        "theta1, h1 = logistic_regression(x, y) "
      ],
      "execution_count": 118,
      "outputs": []
    },
    {
      "cell_type": "code",
      "metadata": {
        "colab": {
          "base_uri": "https://localhost:8080/",
          "height": 296
        },
        "id": "qY3DyrwZ4Td0",
        "outputId": "b471bee4-a642-4e4a-daf4-007c420eb6c4"
      },
      "source": [
        "transparent = h1.reshape(n)\r\n",
        "\r\n",
        "for idx, val in enumerate(df['failure']):\r\n",
        "  if val == 1:\r\n",
        "    sns.scatterplot(x=[df[\"temperature\"][idx]], y=val, alpha=transparent[idx], color=\"green\")\r\n",
        "  else:\r\n",
        "    sns.scatterplot(x=[df[\"temperature\"][idx]], y=val, alpha=1-transparent[idx], color=\"red\")\r\n",
        "sns.lineplot(data=df, x=\"temperature\", y=h1.reshape(np.size(h1)), color='blue')"
      ],
      "execution_count": 119,
      "outputs": [
        {
          "output_type": "execute_result",
          "data": {
            "text/plain": [
              "<matplotlib.axes._subplots.AxesSubplot at 0x7fb6ef59e0f0>"
            ]
          },
          "metadata": {
            "tags": []
          },
          "execution_count": 119
        },
        {
          "output_type": "display_data",
          "data": {
            "image/png": "[encoded data removed]",
            "text/plain": [
              "<Figure size 432x288 with 1 Axes>"
            ]
          },
          "metadata": {
            "tags": [],
            "needs_background": "light"
          }
        }
      ]
    },
    {
      "cell_type": "markdown",
      "metadata": {
        "id": "IqNy1IS9QvNO"
      },
      "source": [
        "One advantage of logistic regression is that it gives the probability of each instance belongs to a class. It makes a big difference knowing a instance has a 99% probability for a class compared to 51%. The transparency in the plot above inicates the probability of the instance for the class. Deeper color stands for higher probability. (Some point has deeper color than it should have, it because multiple points overlap to each other, e.g. temperature=67)"
      ]
    }
  ]
}