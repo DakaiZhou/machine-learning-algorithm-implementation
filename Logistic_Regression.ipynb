{
  "nbformat": 4,
  "nbformat_minor": 0,
  "metadata": {
    "colab": {
      "name": "Logistic Regression.ipynb",
      "provenance": [],
      "collapsed_sections": [],
      "authorship_tag": "ABX9TyPfL7UDyQkCk/YqcQa5QWCu",
      "include_colab_link": true
    },
    "kernelspec": {
      "name": "python3",
      "display_name": "Python 3"
    }
  },
  "cells": [
    {
      "cell_type": "markdown",
      "metadata": {
        "id": "view-in-github",
        "colab_type": "text"
      },
      "source": [
        "<a href=\"https://colab.research.google.com/github/DakaiZhou/machine-learning-algorithm-implementation/blob/main/Logistic_Regression.ipynb\" target=\"_parent\"><img src=\"https://colab.research.google.com/assets/colab-badge.svg\" alt=\"Open In Colab\"/></a>"
      ]
    },
    {
      "cell_type": "markdown",
      "metadata": {
        "id": "TX0M9eiKgZVt"
      },
      "source": [
        "#Classiﬁcation and logistic regression\n",
        "The linear regression can be modified to classification problem, by reduce y to discrete values. For now, we focus on **binary classification**, and it it y is either $0$ nor $1$.\n",
        "\n",
        "## Logistic regression\n",
        "Simply use linear regression to predit binary classification ($y \\in \\{0,1\\}$) performs poorly. To fix this, we change our $h_\\theta(x)$:\n",
        "\n",
        "\\begin{gather}\n",
        "h_\\theta(x) = g(\\theta^Tx) = \\frac{1}{1 + e^{-\\theta^Tx}}\n",
        "\\end{gather}\n",
        "\n",
        "where $g(z) = \\frac{1}{1+e^{-z}}$ , which is called **logistic function** or **sigmoid function**. $g(z)$ tends toward to 1 as $z \\rightarrow \\infty$, and tends toward to 0 as $z \\rightarrow -\\infty$.\n",
        "\n",
        "Keeping $x_0 = 1$ as in linear regression, $\\theta^Tx = \\theta_0 + \\sum_{j=1}^n \\theta_jx_j$.\n",
        "\n",
        "One useful property of sigmoid function is:\n",
        "\\begin{align}\n",
        "g'(z) &= \\frac{d}{dz}\\frac{1}{1 + e^{-z}}\\\\\n",
        "&= \\frac{1}{(1+e^{-z})^2}(e^{-z})\\\\\n",
        "&= \\frac{1}{(1+e^{-z})}(1- \\frac{1}{(1+e^{-z})})\\\\\n",
        "&= g(z)(1-g(z))\n",
        "\\end{align}\n",
        "\n",
        "To estimate $\\theta$, we do maximum likelihood estimator under a set of asumptions (similar to least squares regression). Assume that \n",
        "\\begin{gather}\n",
        "P(y=1|x;\\theta) = h_\\theta(x)\n",
        "\\end{gather}\n",
        "\n",
        "\\begin{gather}\n",
        "P(y=0|x;\\theta) = 1-h_\\theta(x)\n",
        "\\end{gather}\n",
        "\n",
        "This can be written as \n",
        "\n",
        "\\begin{gather}\n",
        "p(y|x;\\theta) = (h_\\theta(x))^y(1-h_\\theta(x))^{1-y}\n",
        "\\end{gather}\n",
        "\n",
        "Assuming we have $m$ training examples which were generated independently, we write down the likelihood of the parameters as\n",
        "\\begin{align}\n",
        "L(\\theta) &= p(\\vec y| X;\\theta)\\\\\n",
        "&= \\prod_{i=1}^m p(y^{(i)}|x^{(i)};\\theta)\\\\\n",
        "&= \\prod_{i=1}^m (h_\\theta(x^{(i)}))^{y^{(i)}} (1-h_\\theta(x^{(i)}))^{1-y^{(i)}}\n",
        "\\end{align}\n",
        "\n",
        "\\begin{align}\n",
        "l(\\theta) &= \\log L(\\theta)\\\\\n",
        "&= \\sum_{i=1}^m y^{(i)}\\log h(x^{(i)}) + (1- y^{(i)})\\log(1-h(x^{(i)}))\n",
        "\\end{align}\n",
        "\n",
        "Again, similar to the derivation in the case of linear regression, we can use gradient ascent to maximize the likelihood. $\\theta := \\theta + \\alpha \\nabla_\\theta l(\\theta)$ (plus is because we are maximizing the function).\n",
        "With one training example and the usful property, we have:\n",
        "\n",
        "\\begin{align}\n",
        "\\frac{\\partial}{\\partial \\theta_j}l(\\theta) &= (y \\frac{1}{g(\\theta^T x) - (1-y)\\frac{1}{1-g(\\theta^Tx)}})\\frac{\\partial}{\\partial\\theta_j}g(\\theta_j x)\\\\\n",
        "&= (y \\frac{1}{g(\\theta^T x) - (1-y)\\frac{1}{1-g(\\theta^Tx)}})g(\\theta^Tx)(1-g(\\theta^Tx)\\frac{\\partial}{\\partial\\theta_j}\\theta^Tx\\\\\n",
        "&= (y(1-g(\\theta^Tx))-(1-y)g(\\theta^Tx))x_j\\\\\n",
        "&= (y-h(\\theta^Tx))x_j\n",
        "\\end{align}\n",
        "\n",
        "Therefore, it give us the stochastic gradient ascent rule: \n",
        "\\begin{gather}\n",
        "\\theta_j := \\theta_j + \\alpha(y^{(i)}-h_\\theta(x^{(i)}))x_j^{(i)}\n",
        "\\end{gather}\n",
        "\n",
        "Of course, we can also change it to a batch gradient ascent:\n",
        "\\begin{gather}\n",
        "\\theta_j := \\theta_j + \\alpha\\sum_{i=1}^m(y^{(i)}-h_\\theta(x^{(i)}))x_j^{(i)}\n",
        "\\end{gather}\n",
        "\n",
        "Here, the cost function $J(\\theta)$ becomes $l(\\theta)$ written above."
      ]
    },
    {
      "cell_type": "code",
      "metadata": {
        "id": "mKzHktvZt5r1"
      },
      "source": [
        "import pandas as pd\n",
        "import seaborn as sns\n",
        "import numpy as np"
      ],
      "execution_count": 1,
      "outputs": []
    },
    {
      "cell_type": "code",
      "metadata": {
        "colab": {
          "base_uri": "https://localhost:8080/",
          "height": 357
        },
        "id": "nhKOIZXUuQ_u",
        "outputId": "8dac91cc-09ee-4ed3-b689-70261a68cddd"
      },
      "source": [
        "df = pd.read_csv(\"challenger.csv\")\n",
        "df.info()\n",
        "df.head()"
      ],
      "execution_count": 2,
      "outputs": [
        {
          "output_type": "stream",
          "text": [
            "<class 'pandas.core.frame.DataFrame'>\n",
            "RangeIndex: 23 entries, 0 to 22\n",
            "Data columns (total 2 columns):\n",
            " #   Column       Non-Null Count  Dtype\n",
            "---  ------       --------------  -----\n",
            " 0   failure      23 non-null     bool \n",
            " 1   temperature  23 non-null     int64\n",
            "dtypes: bool(1), int64(1)\n",
            "memory usage: 335.0 bytes\n"
          ],
          "name": "stdout"
        },
        {
          "output_type": "execute_result",
          "data": {
            "text/html": [
              "<div>\n",
              "<style scoped>\n",
              "    .dataframe tbody tr th:only-of-type {\n",
              "        vertical-align: middle;\n",
              "    }\n",
              "\n",
              "    .dataframe tbody tr th {\n",
              "        vertical-align: top;\n",
              "    }\n",
              "\n",
              "    .dataframe thead th {\n",
              "        text-align: right;\n",
              "    }\n",
              "</style>\n",
              "<table border=\"1\" class=\"dataframe\">\n",
              "  <thead>\n",
              "    <tr style=\"text-align: right;\">\n",
              "      <th></th>\n",
              "      <th>failure</th>\n",
              "      <th>temperature</th>\n",
              "    </tr>\n",
              "  </thead>\n",
              "  <tbody>\n",
              "    <tr>\n",
              "      <th>0</th>\n",
              "      <td>False</td>\n",
              "      <td>66</td>\n",
              "    </tr>\n",
              "    <tr>\n",
              "      <th>1</th>\n",
              "      <td>True</td>\n",
              "      <td>70</td>\n",
              "    </tr>\n",
              "    <tr>\n",
              "      <th>2</th>\n",
              "      <td>False</td>\n",
              "      <td>69</td>\n",
              "    </tr>\n",
              "    <tr>\n",
              "      <th>3</th>\n",
              "      <td>False</td>\n",
              "      <td>68</td>\n",
              "    </tr>\n",
              "    <tr>\n",
              "      <th>4</th>\n",
              "      <td>False</td>\n",
              "      <td>67</td>\n",
              "    </tr>\n",
              "  </tbody>\n",
              "</table>\n",
              "</div>"
            ],
            "text/plain": [
              "   failure  temperature\n",
              "0    False           66\n",
              "1     True           70\n",
              "2    False           69\n",
              "3    False           68\n",
              "4    False           67"
            ]
          },
          "metadata": {
            "tags": []
          },
          "execution_count": 2
        }
      ]
    },
    {
      "cell_type": "code",
      "metadata": {
        "id": "sMyspu4Jvap4",
        "colab": {
          "base_uri": "https://localhost:8080/",
          "height": 357
        },
        "outputId": "de4bd976-68b8-4860-b97f-0b580fb950b7"
      },
      "source": [
        "df.loc[df['failure'] == False, [\"failure\"]] = 0\n",
        "df.loc[df['failure'] == True, [\"failure\"]] = 1\n",
        "df.info()\n",
        "df.head()"
      ],
      "execution_count": 3,
      "outputs": [
        {
          "output_type": "stream",
          "text": [
            "<class 'pandas.core.frame.DataFrame'>\n",
            "RangeIndex: 23 entries, 0 to 22\n",
            "Data columns (total 2 columns):\n",
            " #   Column       Non-Null Count  Dtype \n",
            "---  ------       --------------  ----- \n",
            " 0   failure      23 non-null     object\n",
            " 1   temperature  23 non-null     int64 \n",
            "dtypes: int64(1), object(1)\n",
            "memory usage: 496.0+ bytes\n"
          ],
          "name": "stdout"
        },
        {
          "output_type": "execute_result",
          "data": {
            "text/html": [
              "<div>\n",
              "<style scoped>\n",
              "    .dataframe tbody tr th:only-of-type {\n",
              "        vertical-align: middle;\n",
              "    }\n",
              "\n",
              "    .dataframe tbody tr th {\n",
              "        vertical-align: top;\n",
              "    }\n",
              "\n",
              "    .dataframe thead th {\n",
              "        text-align: right;\n",
              "    }\n",
              "</style>\n",
              "<table border=\"1\" class=\"dataframe\">\n",
              "  <thead>\n",
              "    <tr style=\"text-align: right;\">\n",
              "      <th></th>\n",
              "      <th>failure</th>\n",
              "      <th>temperature</th>\n",
              "    </tr>\n",
              "  </thead>\n",
              "  <tbody>\n",
              "    <tr>\n",
              "      <th>0</th>\n",
              "      <td>0</td>\n",
              "      <td>66</td>\n",
              "    </tr>\n",
              "    <tr>\n",
              "      <th>1</th>\n",
              "      <td>1</td>\n",
              "      <td>70</td>\n",
              "    </tr>\n",
              "    <tr>\n",
              "      <th>2</th>\n",
              "      <td>0</td>\n",
              "      <td>69</td>\n",
              "    </tr>\n",
              "    <tr>\n",
              "      <th>3</th>\n",
              "      <td>0</td>\n",
              "      <td>68</td>\n",
              "    </tr>\n",
              "    <tr>\n",
              "      <th>4</th>\n",
              "      <td>0</td>\n",
              "      <td>67</td>\n",
              "    </tr>\n",
              "  </tbody>\n",
              "</table>\n",
              "</div>"
            ],
            "text/plain": [
              "  failure  temperature\n",
              "0       0           66\n",
              "1       1           70\n",
              "2       0           69\n",
              "3       0           68\n",
              "4       0           67"
            ]
          },
          "metadata": {
            "tags": []
          },
          "execution_count": 3
        }
      ]
    },
    {
      "cell_type": "code",
      "metadata": {
        "colab": {
          "base_uri": "https://localhost:8080/",
          "height": 296
        },
        "id": "tRpG62iN47dO",
        "outputId": "49c495c8-1add-4c25-83c7-524898f9ddba"
      },
      "source": [
        "sns.scatterplot(data=df, x=\"temperature\", y=\"failure\")"
      ],
      "execution_count": 4,
      "outputs": [
        {
          "output_type": "execute_result",
          "data": {
            "text/plain": [
              "<matplotlib.axes._subplots.AxesSubplot at 0x7fc6237f8450>"
            ]
          },
          "metadata": {
            "tags": []
          },
          "execution_count": 4
        },
        {
          "output_type": "display_data",
          "data": {
            "image/png": "[encoded data removed]",
            "text/plain": [
              "<Figure size 432x288 with 1 Axes>"
            ]
          },
          "metadata": {
            "tags": [],
            "needs_background": "light"
          }
        }
      ]
    },
    {
      "cell_type": "code",
      "metadata": {
        "id": "6DvFLTI05M3N"
      },
      "source": [
        "def logistic_regression(x, y, *args, **kwargs):\n",
        "  \"\"\"\n",
        "  Implementation for logistic regression. It is a batch logistic regression.\n",
        "\n",
        "  Input: x training data, column vector or matrix, each column for one feature\n",
        "         y training data, ground truth, column vector\n",
        "         alpha learning rate optional\n",
        "         tol tolorance optional\n",
        "\n",
        "  Output: theta estimated parameters\n",
        "          h estimations\n",
        "  \"\"\"\n",
        "\n",
        "  alpha = 10**-3\n",
        "  tol = 10**-5\n",
        "\n",
        "  if len(kwargs) > 2:\n",
        "    raise Exception(\"Too many inputs.\")\n",
        "  elif len(kwargs) > 0:\n",
        "    if \"alpha\" in kwargs.keys():\n",
        "      alpha = kwargs[\"alpha\"]\n",
        "    if \"tol\" in kwargs.keys():\n",
        "      tol = kwargs[\"tol\"]\n",
        "\n",
        "  num_feature = np.shape(x)[1]\n",
        "  num_example = np.shape(x)[0]\n",
        "  theta = np.zeros((num_feature + 1, 1))\n",
        "  new_col = np.ones(num_example)\n",
        "  x = np.insert(x, 0, new_col, axis=1)\n",
        "  pj = 0\n",
        "  num_loop = 0\n",
        "\n",
        "  # start gradient ascent \n",
        "  while num_loop < 10000:\n",
        "    for i in range(num_example):\n",
        "      h = 1 / (1 + np.exp(-np.dot(x, theta).astype(float)))\n",
        "      tmp = sum((y - h) * x)\n",
        "      theta = theta + alpha * tmp.reshape((num_feature + 1, 1)) # theta update\n",
        "      j = sum(y*np.log(h) + (1-y)*np.log(1-h)) # cost function\n",
        "      if abs(j - pj) <= tol:\n",
        "        return theta, h\n",
        "      else:\n",
        "        pj = j\n",
        "    num_loop = num_loop + 1\n",
        "\n",
        "  print(\"gradient descent does not convergence after maximum interation.\")\n",
        "  return theta, h"
      ],
      "execution_count": 5,
      "outputs": []
    },
    {
      "cell_type": "code",
      "metadata": {
        "id": "jxEfOUpldUVi"
      },
      "source": [
        "x = df[\"temperature\"].values\n",
        "y = df['failure'].values\n",
        "n = np.size(y)\n",
        "x = x.reshape((n, 1))\n",
        "y = y.reshape((n, 1))\n",
        "theta1, h1 = logistic_regression(x, y) "
      ],
      "execution_count": 6,
      "outputs": []
    },
    {
      "cell_type": "code",
      "metadata": {
        "colab": {
          "base_uri": "https://localhost:8080/",
          "height": 296
        },
        "id": "qY3DyrwZ4Td0",
        "outputId": "e2965af1-27ea-462f-af07-8eaaf6c94f25"
      },
      "source": [
        "transparent = h1.reshape(n)\n",
        "\n",
        "for idx, val in enumerate(df['failure']):\n",
        "  if val == 1:\n",
        "    sns.scatterplot(x=[df[\"temperature\"][idx]], y=val, alpha=transparent[idx], color=\"green\")\n",
        "  else:\n",
        "    sns.scatterplot(x=[df[\"temperature\"][idx]], y=val, alpha=1-transparent[idx], color=\"red\")\n",
        "sns.lineplot(data=df, x=\"temperature\", y=h1.reshape(np.size(h1)), color='blue')"
      ],
      "execution_count": 7,
      "outputs": [
        {
          "output_type": "execute_result",
          "data": {
            "text/plain": [
              "<matplotlib.axes._subplots.AxesSubplot at 0x7fc622f20f50>"
            ]
          },
          "metadata": {
            "tags": []
          },
          "execution_count": 7
        },
        {
          "output_type": "display_data",
          "data": {
            "image/png": "[encoded data removed]",
            "text/plain": [
              "<Figure size 432x288 with 1 Axes>"
            ]
          },
          "metadata": {
            "tags": [],
            "needs_background": "light"
          }
        }
      ]
    },
    {
      "cell_type": "markdown",
      "metadata": {
        "id": "IqNy1IS9QvNO"
      },
      "source": [
        "One advantage of logistic regression is that it gives the probability of each instance belongs to a class. It makes a big difference knowing a instance has a 99% probability for a class compared to 51%. The transparency in the plot above inicates the probability of the instance for the class. Deeper color stands for higher probability(some points have deeper color than it should have, it because multiple points overlap to each other, e.g. temperature=67). \n",
        "\n",
        "If we set any point with probebiliy larger than 0.5 as green, and others as red, we get the following plot. The transparency is again the the probability of the instance for the class."
      ]
    },
    {
      "cell_type": "code",
      "metadata": {
        "id": "QSuG1dtUMHyH",
        "outputId": "55533e1c-4049-4e48-88df-b2c31d723632",
        "colab": {
          "base_uri": "https://localhost:8080/",
          "height": 296
        }
      },
      "source": [
        "for idx, val in enumerate(df['failure']):\n",
        "  if h1[idx] > 0.5:\n",
        "    sns.scatterplot(x=[df[\"temperature\"][idx]], y=val, alpha=transparent[idx], color=\"green\")\n",
        "  else:\n",
        "    sns.scatterplot(x=[df[\"temperature\"][idx]], y=val, alpha=1-transparent[idx], color=\"red\")\n",
        "sns.lineplot(data=df, x=\"temperature\", y=h1.reshape(np.size(h1)), color='blue')"
      ],
      "execution_count": 10,
      "outputs": [
        {
          "output_type": "execute_result",
          "data": {
            "text/plain": [
              "<matplotlib.axes._subplots.AxesSubplot at 0x7fc61de2b390>"
            ]
          },
          "metadata": {
            "tags": []
          },
          "execution_count": 10
        },
        {
          "output_type": "display_data",
          "data": {
            "image/png": "[encoded data removed]",
            "text/plain": [
              "<Figure size 432x288 with 1 Axes>"
            ]
          },
          "metadata": {
            "tags": [],
            "needs_background": "light"
          }
        }
      ]
    }
  ]
}