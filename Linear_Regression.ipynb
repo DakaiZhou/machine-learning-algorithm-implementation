{
  "nbformat": 4,
  "nbformat_minor": 0,
  "metadata": {
    "colab": {
      "name": "Linear Regression.ipynb",
      "provenance": [],
      "collapsed_sections": [],
      "toc_visible": true,
      "authorship_tag": "ABX9TyOZYcdZznmP8VsEbbmAPcae",
      "include_colab_link": true
    },
    "kernelspec": {
      "name": "python3",
      "display_name": "Python 3"
    }
  },
  "cells": [
    {
      "cell_type": "markdown",
      "metadata": {
        "id": "view-in-github",
        "colab_type": "text"
      },
      "source": [
        "<a href=\"https://colab.research.google.com/github/DakaiZhou/machine-learning-algorithm-implementation/blob/main/Linear_Regression.ipynb\" target=\"_parent\"><img src=\"https://colab.research.google.com/assets/colab-badge.svg\" alt=\"Open In Colab\"/></a>"
      ]
    },
    {
      "cell_type": "markdown",
      "metadata": {
        "id": "C2sCkbEysuZR"
      },
      "source": [
        "# Linear Regression\r\n",
        "Linear Regression is one of the very basic supervised learning. It is usually used to predict continuous values. A simple example will be used to explain it."
      ]
    },
    {
      "cell_type": "markdown",
      "metadata": {
        "id": "6KqiLicDipMA"
      },
      "source": [
        "A linear function will be used in linear regression. Usually it looks like this\r\n",
        "\r\n",
        "\\begin{gather}\r\n",
        "h_{\\theta}(x) = \\theta_0 + \\theta_1 x_1 + \\theta_2 x_2 + .... + \\theta_n x_n\r\n",
        "\\end{gather}\r\n",
        "\r\n",
        "where $x$ are features, specificly $x_0 = 1$, $\\theta$s are weights.\r\n",
        "\r\n",
        "With matrix operation, it can be further simplified as:\r\n",
        "\r\n",
        "\\begin{gather}\r\n",
        "h_{\\theta}(x) = \r\n",
        "\\begin{bmatrix}\r\n",
        "1 & x_1 & ... & x_n\r\n",
        "\\end{bmatrix}\r\n",
        "\\begin{bmatrix}\r\n",
        "\\theta_0\\\\\r\n",
        "\\theta_1\\\\\r\n",
        "... \\\\\r\n",
        "\\theta_n\r\n",
        "\\end{bmatrix}\r\n",
        "\\end{gather}\r\n",
        "\r\n",
        "We then define a **cost function** to measure how close the $h_{\\theta}(x)$'s to the corresponding $y^{(i)}$: \r\n",
        "\r\n",
        "\\begin{gather}\r\n",
        "J(\\theta) = \\frac{1}{2}\\sum\\limits_{i=1}^m{(h_\\theta(x^{(i)})} - y^{(i)})^2\r\n",
        "\\end{gather}\r\n",
        "\r\n",
        "where $m$ is the size of the training data, $(y^{(i)}, x^{(i)})$ denotes the $i_{th}$ training example. "
      ]
    },
    {
      "cell_type": "markdown",
      "metadata": {
        "id": "sDmTpUwTavgL"
      },
      "source": [
        "## LMS algorithm\r\n",
        "The goal is to minimize $J(\\theta)$. TO do so, let's first use a search algorithm which starts with initial guess for $\\theta$, and keep changing $\\theta$ to make $J(\\theta)$ smaller, until we converge to a value of $\\theta$ that minimize $J(\\theta)$. One very popular algorithm is **gradient descent**, which starts with some initial $\\theta$, and repeatedly performs the updates:\r\n",
        "\\begin{gather}\r\n",
        "\\theta_j := \\theta_j - \\alpha\\frac{\\partial{J(\\theta)}}{\\partial\\theta_j}\r\n",
        "\\end{gather}\r\n",
        "\r\n",
        "$\\alpha$ is the **training rate**, which will desice the step size in the direction of steepest decrease of $J$. $j = 0, 1 ..., n$\r\n",
        "\r\n",
        "Inserting $J(\\theta)$ into the derivative, we have:\r\n",
        "\r\n",
        "\\begin{align}\r\n",
        "\\frac{\\partial{J(\\theta)}}{\\partial\\theta_j} &= \\frac{\\partial}{\\partial{\\theta_j}}\\frac{1}{2}(h_{\\theta}(x) - y)^2 \\\\\r\n",
        "& = 2*\\frac{1}{2}(h_{\\theta}(x) - y)\\frac{\\partial}{\\partial\\theta_j}(h_{\\theta}(x)-y)\\\\\r\n",
        "& = (h_{\\theta}(x)-y)\\frac{\\partial}{\\partial\\theta_j}(\\sum\\limits_{ i=0}^n (\\theta_ix_i - y))\\\\\r\n",
        "& = (h_\\theta(x) - y)x_j\r\n",
        "\\end{align}\r\n",
        "\r\n",
        "For a single training example, the update will be:\r\n",
        "\r\n",
        "\\begin{gather}\r\n",
        "\\theta_j := \\theta_j + \\alpha(y^{(i)}-h_\\theta(x^{(i)}))x_j^{(i)}\r\n",
        "\\end{gather}\r\n",
        "\r\n",
        "This is **LMS** (least mean squares). There are two ways to modify this method for a training set of more than one example. The first is as following:\r\n",
        "\r\n",
        ">>*Repeat until convergence {*\r\n",
        ">>>$\\theta_j :=  \\theta_j + \\alpha\\sum\\limits_{i=0}^m (y^{(i)} - h_{\\theta}(x^{(i)}))x_j^{(i)}$ &nbsp;&nbsp; (for every $j$)\r\n",
        "\r\n",
        ">>*}*\r\n",
        "\r\n",
        "This method looks at every training example in the taining data set on every step, and is called **batch gradient descent**. "
      ]
    },
    {
      "cell_type": "markdown",
      "metadata": {
        "id": "00YVV7z1jf0O"
      },
      "source": [
        "Now, let's implement batch gradient descent.\r\n",
        "\r\n",
        "Given a data set, we first load the data to check the information."
      ]
    },
    {
      "cell_type": "code",
      "metadata": {
        "id": "vf2mfd7PuSxU"
      },
      "source": [
        "import numpy as np\r\n",
        "import pandas as pd\r\n",
        "import seaborn as sns\r\n"
      ],
      "execution_count": null,
      "outputs": []
    },
    {
      "cell_type": "code",
      "metadata": {
        "id": "bUZI71jPwCjA"
      },
      "source": [
        "df_tr = pd.read_csv(\"data/salary_data.csv\")"
      ],
      "execution_count": null,
      "outputs": []
    },
    {
      "cell_type": "code",
      "metadata": {
        "colab": {
          "base_uri": "https://localhost:8080/",
          "height": 357
        },
        "id": "1i5mDJKOz3X6",
        "outputId": "08712696-9be5-41c1-d7dd-6ba9b5aee350"
      },
      "source": [
        "df_tr.info()\r\n",
        "df_tr.head()"
      ],
      "execution_count": null,
      "outputs": [
        {
          "output_type": "stream",
          "text": [
            "<class 'pandas.core.frame.DataFrame'>\n",
            "RangeIndex: 30 entries, 0 to 29\n",
            "Data columns (total 2 columns):\n",
            " #   Column           Non-Null Count  Dtype  \n",
            "---  ------           --------------  -----  \n",
            " 0   YearsExperience  30 non-null     float64\n",
            " 1   Salary           30 non-null     int64  \n",
            "dtypes: float64(1), int64(1)\n",
            "memory usage: 608.0 bytes\n"
          ],
          "name": "stdout"
        },
        {
          "output_type": "execute_result",
          "data": {
            "text/html": [
              "<div>\n",
              "<style scoped>\n",
              "    .dataframe tbody tr th:only-of-type {\n",
              "        vertical-align: middle;\n",
              "    }\n",
              "\n",
              "    .dataframe tbody tr th {\n",
              "        vertical-align: top;\n",
              "    }\n",
              "\n",
              "    .dataframe thead th {\n",
              "        text-align: right;\n",
              "    }\n",
              "</style>\n",
              "<table border=\"1\" class=\"dataframe\">\n",
              "  <thead>\n",
              "    <tr style=\"text-align: right;\">\n",
              "      <th></th>\n",
              "      <th>YearsExperience</th>\n",
              "      <th>Salary</th>\n",
              "    </tr>\n",
              "  </thead>\n",
              "  <tbody>\n",
              "    <tr>\n",
              "      <th>0</th>\n",
              "      <td>1.1</td>\n",
              "      <td>39343</td>\n",
              "    </tr>\n",
              "    <tr>\n",
              "      <th>1</th>\n",
              "      <td>1.3</td>\n",
              "      <td>46205</td>\n",
              "    </tr>\n",
              "    <tr>\n",
              "      <th>2</th>\n",
              "      <td>1.5</td>\n",
              "      <td>37731</td>\n",
              "    </tr>\n",
              "    <tr>\n",
              "      <th>3</th>\n",
              "      <td>2.0</td>\n",
              "      <td>43525</td>\n",
              "    </tr>\n",
              "    <tr>\n",
              "      <th>4</th>\n",
              "      <td>2.2</td>\n",
              "      <td>39891</td>\n",
              "    </tr>\n",
              "  </tbody>\n",
              "</table>\n",
              "</div>"
            ],
            "text/plain": [
              "   YearsExperience  Salary\n",
              "0              1.1   39343\n",
              "1              1.3   46205\n",
              "2              1.5   37731\n",
              "3              2.0   43525\n",
              "4              2.2   39891"
            ]
          },
          "metadata": {
            "tags": []
          },
          "execution_count": 26
        }
      ]
    },
    {
      "cell_type": "markdown",
      "metadata": {
        "id": "hcH7RODb0Vmb"
      },
      "source": [
        "Good, the training data set has no missing values. Next, we plot the data and check the distribution. "
      ]
    },
    {
      "cell_type": "code",
      "metadata": {
        "id": "geb3l0tUgcNv",
        "colab": {
          "base_uri": "https://localhost:8080/",
          "height": 296
        },
        "outputId": "c384eff6-c676-4567-de60-4a9b3fe52e73"
      },
      "source": [
        "sns.scatterplot(data=df_tr, x=\"YearsExperience\", y=\"Salary\")"
      ],
      "execution_count": null,
      "outputs": [
        {
          "output_type": "execute_result",
          "data": {
            "text/plain": [
              "<matplotlib.axes._subplots.AxesSubplot at 0x7f681c8280f0>"
            ]
          },
          "metadata": {
            "tags": []
          },
          "execution_count": 27
        },
        {
          "output_type": "display_data",
          "data": {
            "image/png": "[encoded data removed]",
            "text/plain": [
              "<Figure size 432x288 with 1 Axes>"
            ]
          },
          "metadata": {
            "tags": [],
            "needs_background": "light"
          }
        }
      ]
    },
    {
      "cell_type": "markdown",
      "metadata": {
        "id": "QA4x4rRdjwSj"
      },
      "source": [
        "From the plot, we see that YearsExperience and Salary have positive linear relation. For this section linear reression, we construct a linear function as follows:\r\n",
        "\r\n",
        "\\begin{gather}\r\n",
        "h_{\\theta}(x) = \\theta_0 + \\theta_1 x_1\r\n",
        "\\end{gather}\r\n",
        "\r\n",
        "where $x_0 = 1$, $x_1$ is YearsExperience, $\\theta$ are weights. With matrix form: \r\n",
        "\r\n",
        "\\begin{gather}\r\n",
        "h_{\\theta}(x) = \r\n",
        "\\begin{bmatrix}\r\n",
        "1 & x_1\r\n",
        "\\end{bmatrix}\r\n",
        "\\begin{bmatrix}\r\n",
        "\\theta_0\\\\\r\n",
        "\\theta_1\r\n",
        "\\end{bmatrix}\r\n",
        "\\end{gather}\r\n",
        "\r\n",
        "The following code is the implementation."
      ]
    },
    {
      "cell_type": "code",
      "metadata": {
        "id": "J0tV9N5V1bHk"
      },
      "source": [
        "def batch_gradient_descent(x, y, *args, **kwargs):\r\n",
        "    \"\"\"\r\n",
        "    Algorithm for simple linear regression.\r\n",
        "    Input: x training data, column vector or matrix, each column for one feature\r\n",
        "           y training data, ground truth, column vector\r\n",
        "           alpha learning rate optional\r\n",
        "           tol tolorance optional\r\n",
        "    Output: theta estimated parameters\r\n",
        "            h estimations\r\n",
        "    \"\"\"\r\n",
        "\r\n",
        "    alpha = 10**-3\r\n",
        "    tol = 10**-5\r\n",
        "\r\n",
        "    if len(kwargs) > 2:\r\n",
        "      raise Exception(\"Too many inputs.\")\r\n",
        "    elif len(kwargs) > 0:\r\n",
        "      if \"alpha\" in kwargs.keys():\r\n",
        "        alpha = kwargs[\"alpha\"]\r\n",
        "      if \"tol\" in kwargs.keys():\r\n",
        "        tol = kwargs[\"tol\"]\r\n",
        "      \r\n",
        "\r\n",
        "\r\n",
        "    num_feature = np.shape(x)[1]\r\n",
        "    num_example = np.shape(x)[0]\r\n",
        "    theta = np.ones((num_feature + 1, 1)) * 0.2\r\n",
        "    new_col = np.ones(num_example)\r\n",
        "    x = np.insert(x, 0, new_col, axis=1)\r\n",
        "    # self.tol = self.tol * num_example\r\n",
        "\r\n",
        "    h = np.dot(x, theta)  # our hypothesis\r\n",
        "    num_loop = 0\r\n",
        "    pj = 0\r\n",
        "\r\n",
        "    while num_loop <= 10000:\r\n",
        "        tmp = alpha * sum((y - h) * x)\r\n",
        "        theta = theta + tmp.reshape((num_feature + 1, 1))\r\n",
        "        h = np.dot(x, theta)\r\n",
        "        j = 0.5 * sum((h - y) ** 2)\r\n",
        "        if abs(j - pj) <= tol:\r\n",
        "            return theta, h\r\n",
        "        pj = j\r\n",
        "        num_loop = num_loop + 1\r\n",
        "    print(\"gradient descent does not convergence after maximum interation.\")\r\n",
        "    return theta, h\r\n",
        "\r\n"
      ],
      "execution_count": null,
      "outputs": []
    },
    {
      "cell_type": "code",
      "metadata": {
        "id": "XIaU7RkRCnEs"
      },
      "source": [
        "x = df_tr[\"YearsExperience\"].values\r\n",
        "y = df_tr['Salary'].values\r\n",
        "n = np.size(y)\r\n",
        "x = x.reshape((n, 1))\r\n",
        "y = y.reshape((n, 1))\r\n",
        "theta1, h1 = batch_gradient_descent(x, y) "
      ],
      "execution_count": null,
      "outputs": []
    },
    {
      "cell_type": "markdown",
      "metadata": {
        "id": "0m-KbSuGp1Rz"
      },
      "source": [
        "Plot of our estimation over the training data, we get a stright line which go through the data. The esimation is reasonable."
      ]
    },
    {
      "cell_type": "code",
      "metadata": {
        "colab": {
          "base_uri": "https://localhost:8080/",
          "height": 296
        },
        "id": "lpuEFEWVp6vA",
        "outputId": "c34e8f67-ab90-4acb-884a-9f7b275b14a2"
      },
      "source": [
        "sns.scatterplot(data=df_tr, x=\"YearsExperience\", y=\"Salary\")\r\n",
        "sns.lineplot(data=df_tr, x=\"YearsExperience\", y=h1.reshape(np.size(h1)), color=\"red\")"
      ],
      "execution_count": null,
      "outputs": [
        {
          "output_type": "execute_result",
          "data": {
            "text/plain": [
              "<matplotlib.axes._subplots.AxesSubplot at 0x7f6819a0af98>"
            ]
          },
          "metadata": {
            "tags": []
          },
          "execution_count": 30
        },
        {
          "output_type": "display_data",
          "data": {
            "image/png": "[encoded data removed]",
            "text/plain": [
              "<Figure size 432x288 with 1 Axes>"
            ]
          },
          "metadata": {
            "tags": [],
            "needs_background": "light"
          }
        }
      ]
    },
    {
      "cell_type": "markdown",
      "metadata": {
        "id": "DETqg-Pft6PE"
      },
      "source": [
        "An alternative to batch gradient descent is **stochastic gradient descent**. Instead of looking at every example in each update step, this method update the parameters with every single training example. It starts the estimation right away:\r\n",
        ">> *Loop {*\r\n",
        ">>>for i = 1 to m, {\r\n",
        ">>>>$\\theta_j := \\theta_j + \\alpha(y^{(i)} - h_\\theta(x^{(i)}))x_j^{(i)}$ \r\n",
        "\r\n",
        ">>>}\r\n",
        "\r\n",
        ">>*}*\r\n",
        "\r\n",
        "Therefore, stochastic gradient descent is much faster tha batch gradient descent, especially when the size of traing set is large. (Note however $\\theta$ may never converge to the minimum, and it will keep oscillating around the minimum of $J(\\theta)$. In practice, the values near the minimum will be reasonally good approximations to the true minimum.) In practice, when the training data size is large, stochastic gradient descent is often preferred than batch gradient descent.\r\n",
        "\r\n",
        "The implementation is as follows:"
      ]
    },
    {
      "cell_type": "code",
      "metadata": {
        "id": "lfKFlVA37gha"
      },
      "source": [
        "def stochastic_gradient_descent(x, y, *args, **kwargs):\r\n",
        "    \"\"\"\r\n",
        "    Algorithm for simple linear regression.\r\n",
        "    Input: x training data, column vector or matrix, each column for one feature\r\n",
        "           y training data, ground truth, column vector\r\n",
        "           alpha learning rate optional\r\n",
        "           tol tolorance optional\r\n",
        "    Output: theta estimated parameters\r\n",
        "            h estimations\r\n",
        "    \"\"\"\r\n",
        "\r\n",
        "    alpha = 10**-3\r\n",
        "    tol = 10**-5\r\n",
        "\r\n",
        "    if len(kwargs) > 2:\r\n",
        "      raise Exception(\"Too many inputs.\")\r\n",
        "    elif len(kwargs) > 0:\r\n",
        "      if \"alpha\" in kwargs.keys():\r\n",
        "        alpha = kwargs[\"alpha\"]\r\n",
        "      if \"tol\" in kwargs.keys():\r\n",
        "        tol = kwargs[\"tol\"]\r\n",
        "      \r\n",
        "\r\n",
        "\r\n",
        "    num_feature = np.shape(x)[1]\r\n",
        "    num_example = np.shape(x)[0]\r\n",
        "    theta = np.ones((num_feature + 1, 1)) * 0.2\r\n",
        "    new_col = np.ones(num_example)\r\n",
        "    x = np.insert(x, 0, new_col, axis=1)\r\n",
        "    # self.tol = self.tol * num_example\r\n",
        "\r\n",
        "    h = np.dot(x, theta)  # our hypothesis\r\n",
        "    num_loop = 0\r\n",
        "    pj = 0\r\n",
        "\r\n",
        "    while num_loop <= 10000:\r\n",
        "      for i in range(num_example):\r\n",
        "        h = np.dot(x[i, :], theta)\r\n",
        "        j = 0.5 * ((h - y[i]) ** 2)\r\n",
        "        if abs(j - pj) <= tol:\r\n",
        "          return theta, h\r\n",
        "        else:\r\n",
        "          tmp = alpha * ((y[i] - h) * x[i, :])\r\n",
        "          theta = theta + tmp.reshape((num_feature + 1, 1))\r\n",
        "        pj = j\r\n",
        "      num_loop = num_loop + 1\r\n",
        "    print(\"gradient descent does not convergence after maximum interation.\")\r\n",
        "    return theta, h\r\n",
        "\r\n"
      ],
      "execution_count": null,
      "outputs": []
    },
    {
      "cell_type": "code",
      "metadata": {
        "id": "j3ww2S5tB6Or"
      },
      "source": [
        "# x = df_tr[\"YearsExperience\"].values\r\n",
        "# y = df_tr['Salary'].values\r\n",
        "# n = np.size(y)\r\n",
        "# x = x.reshape((n, 1))\r\n",
        "# y = y.reshape((n, 1))\r\n",
        "theta2, h2 = batch_gradient_descent(x, y) "
      ],
      "execution_count": null,
      "outputs": []
    },
    {
      "cell_type": "code",
      "metadata": {
        "colab": {
          "base_uri": "https://localhost:8080/",
          "height": 296
        },
        "id": "JCU__H4Y6A-Z",
        "outputId": "0a356641-a795-4884-f8e5-295d2e13d255"
      },
      "source": [
        "sns.scatterplot(data=df_tr, x=\"YearsExperience\", y=\"Salary\")\r\n",
        "sns.lineplot(data=df_tr, x=\"YearsExperience\", y=h2.reshape(np.size(h2)), color=\"red\")"
      ],
      "execution_count": null,
      "outputs": [
        {
          "output_type": "execute_result",
          "data": {
            "text/plain": [
              "<matplotlib.axes._subplots.AxesSubplot at 0x7f68199c0eb8>"
            ]
          },
          "metadata": {
            "tags": []
          },
          "execution_count": 33
        },
        {
          "output_type": "display_data",
          "data": {
            "image/png": "[encoded data removed]",
            "text/plain": [
              "<Figure size 432x288 with 1 Axes>"
            ]
          },
          "metadata": {
            "tags": [],
            "needs_background": "light"
          }
        }
      ]
    },
    {
      "cell_type": "markdown",
      "metadata": {
        "id": "iqXXZjnw9NjZ"
      },
      "source": [
        "Both methods give a good estimation(in this example, both give identical results)."
      ]
    },
    {
      "cell_type": "markdown",
      "metadata": {
        "id": "LR5xCLvO9csU"
      },
      "source": [
        "## The normal equations\r\n",
        "This method will minimize $J$ by explicitly taking its derivatives with respect to th $\\theta$s, and setting them to zeros.\r\n",
        "\r\n",
        "With matrix operations, we can have **normal equations**:\r\n",
        "\r\n",
        "\\begin{align}\r\n",
        "\\nabla_\\theta J(\\theta) &= \\nabla_\\theta\\frac{1}{2}(X\\theta-\\vec y)^T(X\\theta-\\vec y)\\\\\r\n",
        "&= X^TX\\theta - X^T \\vec y\r\n",
        "\\end{align}\r\n",
        "\r\n",
        "Set it to zero, further have:\r\n",
        "\\begin{gather}\r\n",
        " X^TX\\theta = X^T \\vec y\r\n",
        " \\end{gather}\r\n",
        "\r\n",
        " Thus, the value $\\theta$ is given in closed form by the equation\r\n",
        " \\begin{gather}\r\n",
        " \\theta = (X^TX)^{-1}X^T\\vec y\r\n",
        " \\end{gather}\r\n",
        "\r\n",
        " (Details see [here](https://github.com/DakaiZhou/machine-learnng-notes-andrew-ng/blob/master/cs229-notes-all/cs229-notes1.pdf).)"
      ]
    },
    {
      "cell_type": "code",
      "metadata": {
        "id": "Yt2TWIcO6kPH"
      },
      "source": [
        "def normal_euqation(x, y):\r\n",
        "  '''\r\n",
        "  Input: x features in traning data\r\n",
        "         y ground truth in training data\r\n",
        "\r\n",
        "  Output: theta estimated parameter\r\n",
        "          h final extimations\r\n",
        "  '''\r\n",
        "  num_example = np.shape(x)[0]\r\n",
        "  new_col = np.ones(num_example)\r\n",
        "  x = np.insert(x, 0, new_col, axis=1)\r\n",
        "  theta = np.dot(np.dot(np.linalg.inv(np.dot(x.transpose(), x)), x.transpose()), y)\r\n",
        "  h = np.dot(x, theta)\r\n",
        "  return theta, h"
      ],
      "execution_count": null,
      "outputs": []
    },
    {
      "cell_type": "code",
      "metadata": {
        "id": "FS34wgiUDBjq"
      },
      "source": [
        "# x = df_tr[\"YearsExperience\"].values\r\n",
        "# y = df_tr['Salary'].values\r\n",
        "# n = np.size(y)\r\n",
        "# x = x.reshape((n, 1))\r\n",
        "# y = y.reshape((n, 1))\r\n",
        "theta3, h3 = normal_euqation(x, y) "
      ],
      "execution_count": null,
      "outputs": []
    },
    {
      "cell_type": "code",
      "metadata": {
        "colab": {
          "base_uri": "https://localhost:8080/",
          "height": 296
        },
        "id": "cRznFY9DDM5K",
        "outputId": "5b2dca7e-fa5b-4464-ebc2-356d10cc8bce"
      },
      "source": [
        "sns.scatterplot(data=df_tr, x=\"YearsExperience\", y=\"Salary\")\r\n",
        "sns.lineplot(data=df_tr, x=\"YearsExperience\", y=h3.reshape(np.size(h3)), color=\"red\")"
      ],
      "execution_count": null,
      "outputs": [
        {
          "output_type": "execute_result",
          "data": {
            "text/plain": [
              "<matplotlib.axes._subplots.AxesSubplot at 0x7f681991aa20>"
            ]
          },
          "metadata": {
            "tags": []
          },
          "execution_count": 36
        },
        {
          "output_type": "display_data",
          "data": {
            "image/png": "[encoded data removed]",
            "text/plain": [
              "<Figure size 432x288 with 1 Axes>"
            ]
          },
          "metadata": {
            "tags": [],
            "needs_background": "light"
          }
        }
      ]
    },
    {
      "cell_type": "code",
      "metadata": {
        "colab": {
          "base_uri": "https://localhost:8080/"
        },
        "id": "MGKwFy6qDQ6q",
        "outputId": "6038c7a4-88f4-4754-d64d-59791d7fc157"
      },
      "source": [
        "theta3 - theta1"
      ],
      "execution_count": null,
      "outputs": [
        {
          "output_type": "execute_result",
          "data": {
            "text/plain": [
              "array([[ 0.01550162],\n",
              "       [-0.00230038]])"
            ]
          },
          "metadata": {
            "tags": []
          },
          "execution_count": 37
        }
      ]
    },
    {
      "cell_type": "markdown",
      "metadata": {
        "id": "YVC6Vs-rDeie"
      },
      "source": [
        "The estimated parameters by normal equations are very close to the other two methods."
      ]
    },
    {
      "cell_type": "markdown",
      "metadata": {
        "id": "3WtNZPY7D0NW"
      },
      "source": [
        "## Locally weighted linear regression\r\n",
        "\r\n",
        "The choice of features is important. Less features or too much features may cause underfitting and overfitting. **Locally weighted linear regression** is one of the algorithms that makes the choice of features less critical. \r\n",
        "\r\n",
        "The locally weighted linear regression algorithm does the following: \r\n",
        " \r\n",
        "\r\n",
        "1.   Fit $\\theta$ to minimize $\\sum_iw^{(i)}(y^{(i)}-\\theta^Tx^{(i)})^2.$\r\n",
        "2.   Output $\\theta^Tx$.\r\n",
        "\r\n",
        "When $w^{(i)}$ is large, $\\theta$ will try hard to make $y^{(i)}-\\theta^Tx^{(i)}$ small. When $w^{(i)}$ is small, $y^{(i)}-\\theta^Tx^{(i)}$ will be pretty much ignored in the fitting process.\r\n",
        "\r\n",
        "A fairly standard choice for the weights is:\r\n",
        "\r\n",
        "\\begin{gather}\r\n",
        "w^{(i)} = \\exp(-\\frac{(x^{(i)} - x)^2}{2\\tau^2})\r\n",
        "\r\n",
        "\\end{gather}\r\n",
        "\r\n",
        "It is like a bell shape function, the $x^{(i)}$ close to $x$ will have larger weight. Hence, $\\theta$ is choosing giving a much higher weight when the training examples close to query point x. The parameter $\\tau$ controls how quickly the weight of a training example falls oﬀ with distance of its $x^{(i)}$ from the query point $x$, it is named **bandwidth**. \r\n",
        "\r\n",
        "Unlike unweighted linear regression, locally weighted linear regression needs to keep the training set to make prediction. It is called **non-parametric **.  The term “non-parametric” (roughly) refers to the fact that the amount of stuﬀ we need to keep in order to represent the hypothesis $h$ grows linearly with the size of the training set.\r\n",
        "\r\n",
        "The normal equation for locally weighted linear regression is:\r\n",
        "\\begin{gather}\r\n",
        "\\nabla_\\theta J(\\theta) = \\nabla_\\theta\\frac{1}{2} (W(X\\theta-\\vec y))^T(X\\theta-\\vec y) := 0\\\\\r\n",
        "\\theta = (X^TWX)^{-1}(X^TW\\vec y)\r\n",
        "\\end{gather}\r\n",
        "where $W$ is \r\n",
        "\\begin{gather}\r\n",
        "\\begin{bmatrix}\r\n",
        "w^0 & 0 & 0 & ... & 0\\\\\r\n",
        "0 & w^1 & 0 & ... & 0\\\\\r\n",
        ". & . & . & ... &   .\\\\\r\n",
        ". & . & . & ... &   .\\\\\r\n",
        ". & . & . & ... &   .\\\\\r\n",
        "0 & 0 & 0 & ... & w^m\r\n",
        "\\end{bmatrix}\r\n",
        "\\end{gather}\r\n",
        "\r\n",
        "The implementation is as follows:\r\n"
      ]
    },
    {
      "cell_type": "code",
      "metadata": {
        "id": "UH5im6J0A0aq"
      },
      "source": [
        "def locally_weighted_linear_regression(x, y, i, tau):\r\n",
        "  '''\r\n",
        "  Input: x features in traning data\r\n",
        "         y ground truth in training data\r\n",
        "         i index of the query point\r\n",
        "         tau bandwidth\r\n",
        "\r\n",
        "  Output: theta estimated parameter\r\n",
        "          h final extimations\r\n",
        "          w weights\r\n",
        "  '''\r\n",
        "  \r\n",
        "  num_example = np.shape(x)[0]\r\n",
        "  new_col = np.ones(num_example)\r\n",
        "  x = np.insert(x, 0, new_col, axis=1)\r\n",
        "  w = np.exp(-(x[i, 1] - x[:, 1])**2 / (2 * tau**2))\r\n",
        "  W = np.diag(w)\r\n",
        "  theta = np.dot(np.linalg.inv(np.dot(np.dot(x.transpose(), W), x)), np.dot(np.dot(x.transpose(), W), y))\r\n",
        "  h = np.dot(x, theta)\r\n",
        "  return theta, h, w\r\n",
        "\r\n",
        "  "
      ],
      "execution_count": null,
      "outputs": []
    },
    {
      "cell_type": "code",
      "metadata": {
        "id": "3h2U1pAeV5jJ"
      },
      "source": [
        "theta4, h4, w = locally_weighted_linear_regression(x, y, 9, 0.3)"
      ],
      "execution_count": null,
      "outputs": []
    },
    {
      "cell_type": "code",
      "metadata": {
        "colab": {
          "base_uri": "https://localhost:8080/"
        },
        "id": "1iYEPk1pZtvk",
        "outputId": "b74720ed-6729-4c00-d4a8-67ada070f0c3"
      },
      "source": [
        "w"
      ],
      "execution_count": null,
      "outputs": [
        {
          "output_type": "execute_result",
          "data": {
            "text/plain": [
              "array([4.89586526e-017, 1.26641655e-014, 2.10040929e-012, 1.06453714e-007,\n",
              "       3.72665317e-006, 2.85655008e-002, 6.57285286e-002, 2.49352209e-001,\n",
              "       2.49352209e-001, 1.00000000e+000, 8.00737403e-001, 6.06530660e-001,\n",
              "       6.06530660e-001, 4.11112291e-001, 2.85655008e-002, 3.35462628e-004,\n",
              "       1.86644691e-005, 6.65836147e-007, 2.10040929e-012, 1.72412094e-013,\n",
              "       6.50878852e-024, 1.28423137e-028, 2.74878501e-043, 1.38634329e-049,\n",
              "       4.80089224e-061, 1.68241585e-068, 6.84205918e-082, 1.02866199e-084,\n",
              "       7.95674389e-106, 2.72002624e-112])"
            ]
          },
          "metadata": {
            "tags": []
          },
          "execution_count": 40
        }
      ]
    },
    {
      "cell_type": "code",
      "metadata": {
        "colab": {
          "base_uri": "https://localhost:8080/",
          "height": 296
        },
        "id": "9lrXJYDZQ9Mf",
        "outputId": "3011af9b-0baa-45f1-b616-74d6cb49f28e"
      },
      "source": [
        "sns.scatterplot(data=df_tr, x=\"YearsExperience\", y=\"Salary\")\r\n",
        "sns.scatterplot(data=df_tr, x=df_tr.loc[w > 0.01][\"YearsExperience\"], y=df_tr.loc[w>0.01][\"Salary\"], color=\"green\")\r\n",
        "sns.lineplot(data=df_tr, x=\"YearsExperience\", y=h4.reshape(np.size(h4)), color=\"red\")"
      ],
      "execution_count": null,
      "outputs": [
        {
          "output_type": "execute_result",
          "data": {
            "text/plain": [
              "<matplotlib.axes._subplots.AxesSubplot at 0x7f68198cb710>"
            ]
          },
          "metadata": {
            "tags": []
          },
          "execution_count": 41
        },
        {
          "output_type": "display_data",
          "data": {
            "image/png": "[encoded data removed]",
            "text/plain": [
              "<Figure size 432x288 with 1 Axes>"
            ]
          },
          "metadata": {
            "tags": [],
            "needs_background": "light"
          }
        }
      ]
    },
    {
      "cell_type": "markdown",
      "metadata": {
        "id": "gFHEgFmedvId"
      },
      "source": [
        "In the above locally weighted linear regression plot, the line fits with the green points. The middle green point has the largest weight, and the weights decrease proportional to the distance away from the middle point. Only a segment of this line(which fits the green points) will be counted in the final result. The final fit will be a combination of segments from multiple lines."
      ]
    }
  ]
}